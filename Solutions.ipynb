{
 "cells": [
  {
   "cell_type": "markdown",
   "metadata": {},
   "source": [
    "# Coursework Part 2"
   ]
  },
  {
   "cell_type": "markdown",
   "metadata": {},
   "source": [
    "## In this part, we will continue to work on the dataset you have used and modified in Part one, that is, the red-wine dataset with two classes, where Class One includes those red wine with a quality value in between 6-10 (inclusive) and Class Two includes those red-wine with a quality value in between 1- 5 (inclusive)."
   ]
  },
  {
   "cell_type": "code",
   "execution_count": 503,
   "metadata": {},
   "outputs": [
    {
     "data": {
      "text/html": [
       "<div>\n",
       "<style scoped>\n",
       "    .dataframe tbody tr th:only-of-type {\n",
       "        vertical-align: middle;\n",
       "    }\n",
       "\n",
       "    .dataframe tbody tr th {\n",
       "        vertical-align: top;\n",
       "    }\n",
       "\n",
       "    .dataframe thead th {\n",
       "        text-align: right;\n",
       "    }\n",
       "</style>\n",
       "<table border=\"1\" class=\"dataframe\">\n",
       "  <thead>\n",
       "    <tr style=\"text-align: right;\">\n",
       "      <th></th>\n",
       "      <th>fixed acidity</th>\n",
       "      <th>volatile acidity</th>\n",
       "      <th>citric acid</th>\n",
       "      <th>residual sugar</th>\n",
       "      <th>chlorides</th>\n",
       "      <th>free sulfur dioxide</th>\n",
       "      <th>total sulfur dioxide</th>\n",
       "      <th>density</th>\n",
       "      <th>pH</th>\n",
       "      <th>sulphates</th>\n",
       "      <th>alcohol</th>\n",
       "      <th>quality</th>\n",
       "    </tr>\n",
       "  </thead>\n",
       "  <tbody>\n",
       "    <tr>\n",
       "      <th>0</th>\n",
       "      <td>7.4</td>\n",
       "      <td>0.700</td>\n",
       "      <td>0.00</td>\n",
       "      <td>1.9</td>\n",
       "      <td>0.076</td>\n",
       "      <td>11.0</td>\n",
       "      <td>34.0</td>\n",
       "      <td>0.99780</td>\n",
       "      <td>3.51</td>\n",
       "      <td>0.56</td>\n",
       "      <td>9.4</td>\n",
       "      <td>5</td>\n",
       "    </tr>\n",
       "    <tr>\n",
       "      <th>1</th>\n",
       "      <td>7.8</td>\n",
       "      <td>0.880</td>\n",
       "      <td>0.00</td>\n",
       "      <td>2.6</td>\n",
       "      <td>0.098</td>\n",
       "      <td>25.0</td>\n",
       "      <td>67.0</td>\n",
       "      <td>0.99680</td>\n",
       "      <td>3.20</td>\n",
       "      <td>0.68</td>\n",
       "      <td>9.8</td>\n",
       "      <td>5</td>\n",
       "    </tr>\n",
       "    <tr>\n",
       "      <th>2</th>\n",
       "      <td>7.8</td>\n",
       "      <td>0.760</td>\n",
       "      <td>0.04</td>\n",
       "      <td>2.3</td>\n",
       "      <td>0.092</td>\n",
       "      <td>15.0</td>\n",
       "      <td>54.0</td>\n",
       "      <td>0.99700</td>\n",
       "      <td>3.26</td>\n",
       "      <td>0.65</td>\n",
       "      <td>9.8</td>\n",
       "      <td>5</td>\n",
       "    </tr>\n",
       "    <tr>\n",
       "      <th>3</th>\n",
       "      <td>11.2</td>\n",
       "      <td>0.280</td>\n",
       "      <td>0.56</td>\n",
       "      <td>1.9</td>\n",
       "      <td>0.075</td>\n",
       "      <td>17.0</td>\n",
       "      <td>60.0</td>\n",
       "      <td>0.99800</td>\n",
       "      <td>3.16</td>\n",
       "      <td>0.58</td>\n",
       "      <td>9.8</td>\n",
       "      <td>6</td>\n",
       "    </tr>\n",
       "    <tr>\n",
       "      <th>4</th>\n",
       "      <td>7.4</td>\n",
       "      <td>0.700</td>\n",
       "      <td>0.00</td>\n",
       "      <td>1.9</td>\n",
       "      <td>0.076</td>\n",
       "      <td>11.0</td>\n",
       "      <td>34.0</td>\n",
       "      <td>0.99780</td>\n",
       "      <td>3.51</td>\n",
       "      <td>0.56</td>\n",
       "      <td>9.4</td>\n",
       "      <td>5</td>\n",
       "    </tr>\n",
       "    <tr>\n",
       "      <th>...</th>\n",
       "      <td>...</td>\n",
       "      <td>...</td>\n",
       "      <td>...</td>\n",
       "      <td>...</td>\n",
       "      <td>...</td>\n",
       "      <td>...</td>\n",
       "      <td>...</td>\n",
       "      <td>...</td>\n",
       "      <td>...</td>\n",
       "      <td>...</td>\n",
       "      <td>...</td>\n",
       "      <td>...</td>\n",
       "    </tr>\n",
       "    <tr>\n",
       "      <th>1594</th>\n",
       "      <td>6.2</td>\n",
       "      <td>0.600</td>\n",
       "      <td>0.08</td>\n",
       "      <td>2.0</td>\n",
       "      <td>0.090</td>\n",
       "      <td>32.0</td>\n",
       "      <td>44.0</td>\n",
       "      <td>0.99490</td>\n",
       "      <td>3.45</td>\n",
       "      <td>0.58</td>\n",
       "      <td>10.5</td>\n",
       "      <td>5</td>\n",
       "    </tr>\n",
       "    <tr>\n",
       "      <th>1595</th>\n",
       "      <td>5.9</td>\n",
       "      <td>0.550</td>\n",
       "      <td>0.10</td>\n",
       "      <td>2.2</td>\n",
       "      <td>0.062</td>\n",
       "      <td>39.0</td>\n",
       "      <td>51.0</td>\n",
       "      <td>0.99512</td>\n",
       "      <td>3.52</td>\n",
       "      <td>0.76</td>\n",
       "      <td>11.2</td>\n",
       "      <td>6</td>\n",
       "    </tr>\n",
       "    <tr>\n",
       "      <th>1596</th>\n",
       "      <td>6.3</td>\n",
       "      <td>0.510</td>\n",
       "      <td>0.13</td>\n",
       "      <td>2.3</td>\n",
       "      <td>0.076</td>\n",
       "      <td>29.0</td>\n",
       "      <td>40.0</td>\n",
       "      <td>0.99574</td>\n",
       "      <td>3.42</td>\n",
       "      <td>0.75</td>\n",
       "      <td>11.0</td>\n",
       "      <td>6</td>\n",
       "    </tr>\n",
       "    <tr>\n",
       "      <th>1597</th>\n",
       "      <td>5.9</td>\n",
       "      <td>0.645</td>\n",
       "      <td>0.12</td>\n",
       "      <td>2.0</td>\n",
       "      <td>0.075</td>\n",
       "      <td>32.0</td>\n",
       "      <td>44.0</td>\n",
       "      <td>0.99547</td>\n",
       "      <td>3.57</td>\n",
       "      <td>0.71</td>\n",
       "      <td>10.2</td>\n",
       "      <td>5</td>\n",
       "    </tr>\n",
       "    <tr>\n",
       "      <th>1598</th>\n",
       "      <td>6.0</td>\n",
       "      <td>0.310</td>\n",
       "      <td>0.47</td>\n",
       "      <td>3.6</td>\n",
       "      <td>0.067</td>\n",
       "      <td>18.0</td>\n",
       "      <td>42.0</td>\n",
       "      <td>0.99549</td>\n",
       "      <td>3.39</td>\n",
       "      <td>0.66</td>\n",
       "      <td>11.0</td>\n",
       "      <td>6</td>\n",
       "    </tr>\n",
       "  </tbody>\n",
       "</table>\n",
       "<p>1599 rows × 12 columns</p>\n",
       "</div>"
      ],
      "text/plain": [
       "      fixed acidity  volatile acidity  citric acid  residual sugar  chlorides  \\\n",
       "0               7.4             0.700         0.00             1.9      0.076   \n",
       "1               7.8             0.880         0.00             2.6      0.098   \n",
       "2               7.8             0.760         0.04             2.3      0.092   \n",
       "3              11.2             0.280         0.56             1.9      0.075   \n",
       "4               7.4             0.700         0.00             1.9      0.076   \n",
       "...             ...               ...          ...             ...        ...   \n",
       "1594            6.2             0.600         0.08             2.0      0.090   \n",
       "1595            5.9             0.550         0.10             2.2      0.062   \n",
       "1596            6.3             0.510         0.13             2.3      0.076   \n",
       "1597            5.9             0.645         0.12             2.0      0.075   \n",
       "1598            6.0             0.310         0.47             3.6      0.067   \n",
       "\n",
       "      free sulfur dioxide  total sulfur dioxide  density    pH  sulphates  \\\n",
       "0                    11.0                  34.0  0.99780  3.51       0.56   \n",
       "1                    25.0                  67.0  0.99680  3.20       0.68   \n",
       "2                    15.0                  54.0  0.99700  3.26       0.65   \n",
       "3                    17.0                  60.0  0.99800  3.16       0.58   \n",
       "4                    11.0                  34.0  0.99780  3.51       0.56   \n",
       "...                   ...                   ...      ...   ...        ...   \n",
       "1594                 32.0                  44.0  0.99490  3.45       0.58   \n",
       "1595                 39.0                  51.0  0.99512  3.52       0.76   \n",
       "1596                 29.0                  40.0  0.99574  3.42       0.75   \n",
       "1597                 32.0                  44.0  0.99547  3.57       0.71   \n",
       "1598                 18.0                  42.0  0.99549  3.39       0.66   \n",
       "\n",
       "      alcohol  quality  \n",
       "0         9.4        5  \n",
       "1         9.8        5  \n",
       "2         9.8        5  \n",
       "3         9.8        6  \n",
       "4         9.4        5  \n",
       "...       ...      ...  \n",
       "1594     10.5        5  \n",
       "1595     11.2        6  \n",
       "1596     11.0        6  \n",
       "1597     10.2        5  \n",
       "1598     11.0        6  \n",
       "\n",
       "[1599 rows x 12 columns]"
      ]
     },
     "execution_count": 503,
     "metadata": {},
     "output_type": "execute_result"
    }
   ],
   "source": [
    "import numpy as np\n",
    "import matplotlib.pyplot as plt                        # Importing Required libraries\n",
    "import pandas as pd\n",
    "import seaborn as sns\n",
    "\n",
    "data = pd.read_csv('winequality-red.csv', sep=';')     # Importing csv file to data variable\n",
    "data                                                   "
   ]
  },
  {
   "cell_type": "code",
   "execution_count": 504,
   "metadata": {},
   "outputs": [],
   "source": [
    "data.loc[(data['quality']>=6)&(data['quality']<=10),'class'] = 1       # spliting quality with 6-10 in class 1"
   ]
  },
  {
   "cell_type": "code",
   "execution_count": 505,
   "metadata": {},
   "outputs": [],
   "source": [
    "data.loc[(data['quality']>=1)&(data['quality']<=5),'class'] = 2        # spliting quality with 1-5 in class 2"
   ]
  },
  {
   "cell_type": "code",
   "execution_count": 506,
   "metadata": {},
   "outputs": [
    {
     "data": {
      "text/html": [
       "<div>\n",
       "<style scoped>\n",
       "    .dataframe tbody tr th:only-of-type {\n",
       "        vertical-align: middle;\n",
       "    }\n",
       "\n",
       "    .dataframe tbody tr th {\n",
       "        vertical-align: top;\n",
       "    }\n",
       "\n",
       "    .dataframe thead th {\n",
       "        text-align: right;\n",
       "    }\n",
       "</style>\n",
       "<table border=\"1\" class=\"dataframe\">\n",
       "  <thead>\n",
       "    <tr style=\"text-align: right;\">\n",
       "      <th></th>\n",
       "      <th>fixed acidity</th>\n",
       "      <th>volatile acidity</th>\n",
       "      <th>citric acid</th>\n",
       "      <th>residual sugar</th>\n",
       "      <th>chlorides</th>\n",
       "      <th>free sulfur dioxide</th>\n",
       "      <th>total sulfur dioxide</th>\n",
       "      <th>density</th>\n",
       "      <th>pH</th>\n",
       "      <th>sulphates</th>\n",
       "      <th>alcohol</th>\n",
       "      <th>quality</th>\n",
       "      <th>class</th>\n",
       "    </tr>\n",
       "  </thead>\n",
       "  <tbody>\n",
       "    <tr>\n",
       "      <th>0</th>\n",
       "      <td>7.4</td>\n",
       "      <td>0.70</td>\n",
       "      <td>0.00</td>\n",
       "      <td>1.9</td>\n",
       "      <td>0.076</td>\n",
       "      <td>11.0</td>\n",
       "      <td>34.0</td>\n",
       "      <td>0.9978</td>\n",
       "      <td>3.51</td>\n",
       "      <td>0.56</td>\n",
       "      <td>9.4</td>\n",
       "      <td>5</td>\n",
       "      <td>2.0</td>\n",
       "    </tr>\n",
       "    <tr>\n",
       "      <th>1</th>\n",
       "      <td>7.8</td>\n",
       "      <td>0.88</td>\n",
       "      <td>0.00</td>\n",
       "      <td>2.6</td>\n",
       "      <td>0.098</td>\n",
       "      <td>25.0</td>\n",
       "      <td>67.0</td>\n",
       "      <td>0.9968</td>\n",
       "      <td>3.20</td>\n",
       "      <td>0.68</td>\n",
       "      <td>9.8</td>\n",
       "      <td>5</td>\n",
       "      <td>2.0</td>\n",
       "    </tr>\n",
       "    <tr>\n",
       "      <th>2</th>\n",
       "      <td>7.8</td>\n",
       "      <td>0.76</td>\n",
       "      <td>0.04</td>\n",
       "      <td>2.3</td>\n",
       "      <td>0.092</td>\n",
       "      <td>15.0</td>\n",
       "      <td>54.0</td>\n",
       "      <td>0.9970</td>\n",
       "      <td>3.26</td>\n",
       "      <td>0.65</td>\n",
       "      <td>9.8</td>\n",
       "      <td>5</td>\n",
       "      <td>2.0</td>\n",
       "    </tr>\n",
       "    <tr>\n",
       "      <th>3</th>\n",
       "      <td>11.2</td>\n",
       "      <td>0.28</td>\n",
       "      <td>0.56</td>\n",
       "      <td>1.9</td>\n",
       "      <td>0.075</td>\n",
       "      <td>17.0</td>\n",
       "      <td>60.0</td>\n",
       "      <td>0.9980</td>\n",
       "      <td>3.16</td>\n",
       "      <td>0.58</td>\n",
       "      <td>9.8</td>\n",
       "      <td>6</td>\n",
       "      <td>1.0</td>\n",
       "    </tr>\n",
       "    <tr>\n",
       "      <th>4</th>\n",
       "      <td>7.4</td>\n",
       "      <td>0.70</td>\n",
       "      <td>0.00</td>\n",
       "      <td>1.9</td>\n",
       "      <td>0.076</td>\n",
       "      <td>11.0</td>\n",
       "      <td>34.0</td>\n",
       "      <td>0.9978</td>\n",
       "      <td>3.51</td>\n",
       "      <td>0.56</td>\n",
       "      <td>9.4</td>\n",
       "      <td>5</td>\n",
       "      <td>2.0</td>\n",
       "    </tr>\n",
       "  </tbody>\n",
       "</table>\n",
       "</div>"
      ],
      "text/plain": [
       "   fixed acidity  volatile acidity  citric acid  residual sugar  chlorides  \\\n",
       "0            7.4              0.70         0.00             1.9      0.076   \n",
       "1            7.8              0.88         0.00             2.6      0.098   \n",
       "2            7.8              0.76         0.04             2.3      0.092   \n",
       "3           11.2              0.28         0.56             1.9      0.075   \n",
       "4            7.4              0.70         0.00             1.9      0.076   \n",
       "\n",
       "   free sulfur dioxide  total sulfur dioxide  density    pH  sulphates  \\\n",
       "0                 11.0                  34.0   0.9978  3.51       0.56   \n",
       "1                 25.0                  67.0   0.9968  3.20       0.68   \n",
       "2                 15.0                  54.0   0.9970  3.26       0.65   \n",
       "3                 17.0                  60.0   0.9980  3.16       0.58   \n",
       "4                 11.0                  34.0   0.9978  3.51       0.56   \n",
       "\n",
       "   alcohol  quality  class  \n",
       "0      9.4        5    2.0  \n",
       "1      9.8        5    2.0  \n",
       "2      9.8        5    2.0  \n",
       "3      9.8        6    1.0  \n",
       "4      9.4        5    2.0  "
      ]
     },
     "execution_count": 506,
     "metadata": {},
     "output_type": "execute_result"
    }
   ],
   "source": [
    "data.head()                                  # head() dataframe function to view some of initial row"
   ]
  },
  {
   "cell_type": "code",
   "execution_count": 507,
   "metadata": {},
   "outputs": [
    {
     "name": "stdout",
     "output_type": "stream",
     "text": [
      "<class 'pandas.core.frame.DataFrame'>\n",
      "RangeIndex: 1599 entries, 0 to 1598\n",
      "Data columns (total 13 columns):\n",
      "fixed acidity           1599 non-null float64\n",
      "volatile acidity        1599 non-null float64\n",
      "citric acid             1599 non-null float64\n",
      "residual sugar          1599 non-null float64\n",
      "chlorides               1599 non-null float64\n",
      "free sulfur dioxide     1599 non-null float64\n",
      "total sulfur dioxide    1599 non-null float64\n",
      "density                 1599 non-null float64\n",
      "pH                      1599 non-null float64\n",
      "sulphates               1599 non-null float64\n",
      "alcohol                 1599 non-null float64\n",
      "quality                 1599 non-null int64\n",
      "class                   1599 non-null float64\n",
      "dtypes: float64(12), int64(1)\n",
      "memory usage: 162.5 KB\n"
     ]
    }
   ],
   "source": [
    "data.info()                        # Information about the type of data and object of data"
   ]
  },
  {
   "cell_type": "code",
   "execution_count": 508,
   "metadata": {},
   "outputs": [
    {
     "data": {
      "text/plain": [
       "Index(['fixed acidity', 'volatile acidity', 'citric acid', 'residual sugar',\n",
       "       'chlorides', 'free sulfur dioxide', 'total sulfur dioxide', 'density',\n",
       "       'pH', 'sulphates', 'alcohol', 'quality', 'class'],\n",
       "      dtype='object')"
      ]
     },
     "execution_count": 508,
     "metadata": {},
     "output_type": "execute_result"
    }
   ],
   "source": [
    "data.columns            # it describes the columns names in the data"
   ]
  },
  {
   "cell_type": "markdown",
   "metadata": {},
   "source": [
    "## Task 1: Divide the data set into a training set (I) and a test set.   You should further divide the training set (I) into a smaller training set (II)and a validation set using the same ratio."
   ]
  },
  {
   "cell_type": "markdown",
   "metadata": {},
   "source": [
    "### label  =  class (which is divided into 0 and 1)"
   ]
  },
  {
   "cell_type": "code",
   "execution_count": 509,
   "metadata": {},
   "outputs": [
    {
     "data": {
      "text/plain": [
       "array([2., 2., 2., ..., 1., 2., 1.])"
      ]
     },
     "execution_count": 509,
     "metadata": {},
     "output_type": "execute_result"
    }
   ],
   "source": [
    "label_values = data['class'].to_numpy()           # Seperating Label column ('class') from the data \n",
    "label_values"
   ]
  },
  {
   "cell_type": "markdown",
   "metadata": {},
   "source": [
    "### features or inputs as target_values which is used to predict the class"
   ]
  },
  {
   "cell_type": "code",
   "execution_count": 510,
   "metadata": {},
   "outputs": [
    {
     "data": {
      "text/plain": [
       "array([[ 7.4  ,  0.7  ,  0.   , ...,  3.51 ,  0.56 ,  9.4  ],\n",
       "       [ 7.8  ,  0.88 ,  0.   , ...,  3.2  ,  0.68 ,  9.8  ],\n",
       "       [ 7.8  ,  0.76 ,  0.04 , ...,  3.26 ,  0.65 ,  9.8  ],\n",
       "       ...,\n",
       "       [ 6.3  ,  0.51 ,  0.13 , ...,  3.42 ,  0.75 , 11.   ],\n",
       "       [ 5.9  ,  0.645,  0.12 , ...,  3.57 ,  0.71 , 10.2  ],\n",
       "       [ 6.   ,  0.31 ,  0.47 , ...,  3.39 ,  0.66 , 11.   ]])"
      ]
     },
     "execution_count": 510,
     "metadata": {},
     "output_type": "execute_result"
    }
   ],
   "source": [
    "target_values = data[['fixed acidity', 'volatile acidity', 'citric acid', 'residual sugar', # Seperating the target values \n",
    "       'chlorides', 'free sulfur dioxide', 'total sulfur dioxide', 'density',\n",
    "       'pH', 'sulphates', 'alcohol']].to_numpy()\n",
    "target_values"
   ]
  },
  {
   "cell_type": "code",
   "execution_count": 511,
   "metadata": {},
   "outputs": [
    {
     "data": {
      "text/plain": [
       "array(['fixed acidity', 'volatile acidity', 'citric acid',\n",
       "       'residual sugar', 'chlorides', 'free sulfur dioxide',\n",
       "       'total sulfur dioxide', 'density', 'pH', 'sulphates', 'alcohol'],\n",
       "      dtype='<U20')"
      ]
     },
     "execution_count": 511,
     "metadata": {},
     "output_type": "execute_result"
    }
   ],
   "source": [
    "columns_name = np.array(['fixed acidity', 'volatile acidity', 'citric acid', 'residual sugar',\n",
    "       'chlorides', 'free sulfur dioxide', 'total sulfur dioxide', 'density',\n",
    "       'pH', 'sulphates', 'alcohol'])\n",
    "columns_name                           "
   ]
  },
  {
   "cell_type": "code",
   "execution_count": 512,
   "metadata": {},
   "outputs": [
    {
     "data": {
      "text/plain": [
       "(1599, 13)"
      ]
     },
     "execution_count": 512,
     "metadata": {},
     "output_type": "execute_result"
    }
   ],
   "source": [
    "data.shape            # Represent the number of rows and columns in main data"
   ]
  },
  {
   "cell_type": "code",
   "execution_count": 513,
   "metadata": {},
   "outputs": [
    {
     "data": {
      "text/plain": [
       "(1599, 11)"
      ]
     },
     "execution_count": 513,
     "metadata": {},
     "output_type": "execute_result"
    }
   ],
   "source": [
    "target_values.shape      # Represent the number of rows and columns of features as target_values "
   ]
  },
  {
   "cell_type": "code",
   "execution_count": 514,
   "metadata": {},
   "outputs": [
    {
     "data": {
      "text/plain": [
       "(1599,)"
      ]
     },
     "execution_count": 514,
     "metadata": {},
     "output_type": "execute_result"
    }
   ],
   "source": [
    "label_values.shape       # label shape that is one column"
   ]
  },
  {
   "cell_type": "markdown",
   "metadata": {},
   "source": [
    "## I had use 20% of the total data points as the test data."
   ]
  },
  {
   "cell_type": "code",
   "execution_count": 515,
   "metadata": {},
   "outputs": [],
   "source": [
    "from sklearn.model_selection import train_test_split\n",
    "X_train, X_test, y_train, y_test = train_test_split( target_values, label_values, test_size=0.2, random_state=101,shuffle='True')"
   ]
  },
  {
   "cell_type": "code",
   "execution_count": 516,
   "metadata": {},
   "outputs": [
    {
     "data": {
      "text/plain": [
       "array([[ 8.2 ,  0.44,  0.24, ...,  3.25,  0.53, 10.2 ],\n",
       "       [ 8.8 ,  0.61,  0.14, ...,  3.19,  0.59,  9.5 ],\n",
       "       [ 8.1 ,  0.87,  0.  , ...,  3.25,  0.5 ,  9.8 ],\n",
       "       ...,\n",
       "       [ 8.3 ,  0.85,  0.14, ...,  3.36,  0.54, 10.1 ],\n",
       "       [ 6.3 ,  0.6 ,  0.1 , ...,  3.55,  0.51, 12.1 ],\n",
       "       [ 7.2 ,  0.62,  0.06, ...,  3.51,  0.53,  9.7 ]])"
      ]
     },
     "execution_count": 516,
     "metadata": {},
     "output_type": "execute_result"
    }
   ],
   "source": [
    "X_train"
   ]
  },
  {
   "cell_type": "code",
   "execution_count": 517,
   "metadata": {},
   "outputs": [
    {
     "data": {
      "text/plain": [
       "array([[ 8.3  ,  0.78 ,  0.1  , ...,  3.48 ,  0.53 , 10.   ],\n",
       "       [ 7.5  ,  0.725,  0.04 , ...,  3.26 ,  0.53 ,  9.6  ],\n",
       "       [ 7.6  ,  0.49 ,  0.33 , ...,  3.41 ,  0.58 ,  9.   ],\n",
       "       ...,\n",
       "       [10.4  ,  0.575,  0.61 , ...,  3.16 ,  0.69 ,  9.   ],\n",
       "       [ 8.7  ,  0.69 ,  0.31 , ...,  3.48 ,  0.74 , 11.6  ],\n",
       "       [ 7.   ,  0.62 ,  0.18 , ...,  3.08 ,  0.6  ,  9.3  ]])"
      ]
     },
     "execution_count": 517,
     "metadata": {},
     "output_type": "execute_result"
    }
   ],
   "source": [
    "X_test"
   ]
  },
  {
   "cell_type": "code",
   "execution_count": 518,
   "metadata": {},
   "outputs": [
    {
     "data": {
      "text/plain": [
       "(1279, 11)"
      ]
     },
     "execution_count": 518,
     "metadata": {},
     "output_type": "execute_result"
    }
   ],
   "source": [
    "X_train.shape"
   ]
  },
  {
   "cell_type": "code",
   "execution_count": 519,
   "metadata": {},
   "outputs": [
    {
     "data": {
      "text/plain": [
       "(320, 11)"
      ]
     },
     "execution_count": 519,
     "metadata": {},
     "output_type": "execute_result"
    }
   ],
   "source": [
    "X_test.shape"
   ]
  },
  {
   "cell_type": "markdown",
   "metadata": {},
   "source": [
    "## spliting validation set from training set with same ratio above"
   ]
  },
  {
   "cell_type": "code",
   "execution_count": 520,
   "metadata": {},
   "outputs": [],
   "source": [
    "X_trn, X_val, y_trn, y_val = train_test_split(X_train, y_train, test_size=0.25, random_state=421, shuffle=True)"
   ]
  },
  {
   "cell_type": "code",
   "execution_count": 521,
   "metadata": {},
   "outputs": [
    {
     "data": {
      "text/plain": [
       "array([[10.5 ,  0.42,  0.66, ...,  3.24,  0.75, 11.7 ],\n",
       "       [ 5.6 ,  0.66,  0.  , ...,  3.71,  0.63, 12.8 ],\n",
       "       [ 8.2 ,  0.42,  0.49, ...,  3.34,  0.75,  8.7 ],\n",
       "       ...,\n",
       "       [ 6.5 ,  0.39,  0.23, ...,  3.44,  0.55, 12.1 ],\n",
       "       [10.2 ,  0.54,  0.37, ...,  3.18,  0.77,  9.  ],\n",
       "       [ 8.2 ,  0.73,  0.21, ...,  3.2 ,  0.52,  9.5 ]])"
      ]
     },
     "execution_count": 521,
     "metadata": {},
     "output_type": "execute_result"
    }
   ],
   "source": [
    "X_trn"
   ]
  },
  {
   "cell_type": "code",
   "execution_count": 522,
   "metadata": {},
   "outputs": [
    {
     "data": {
      "text/plain": [
       "(959, 11)"
      ]
     },
     "execution_count": 522,
     "metadata": {},
     "output_type": "execute_result"
    }
   ],
   "source": [
    "X_trn.shape\n"
   ]
  },
  {
   "cell_type": "code",
   "execution_count": 523,
   "metadata": {},
   "outputs": [],
   "source": [
    "import collections, numpy\n",
    "unique_labels = numpy.unique(label_values)"
   ]
  },
  {
   "cell_type": "code",
   "execution_count": 524,
   "metadata": {},
   "outputs": [
    {
     "data": {
      "text/plain": [
       "array([1., 2.])"
      ]
     },
     "execution_count": 524,
     "metadata": {},
     "output_type": "execute_result"
    }
   ],
   "source": [
    "unique_labels"
   ]
  },
  {
   "cell_type": "markdown",
   "metadata": {},
   "source": [
    "# Task 2: PCA Analysis on the red-wine two classes dataset"
   ]
  },
  {
   "cell_type": "markdown",
   "metadata": {},
   "source": [
    "## a) Perform a PCA analysis on the training data set (I)"
   ]
  },
  {
   "cell_type": "markdown",
   "metadata": {},
   "source": [
    "### preprocessing data"
   ]
  },
  {
   "cell_type": "code",
   "execution_count": 525,
   "metadata": {},
   "outputs": [
    {
     "data": {
      "text/plain": [
       "array([[-0.078, -0.487, -0.177, ..., -0.387, -0.77 , -0.189],\n",
       "       [ 0.265,  0.465, -0.691, ..., -0.771, -0.42 , -0.856],\n",
       "       [-0.135,  1.921, -1.411, ..., -0.387, -0.945, -0.57 ],\n",
       "       ...,\n",
       "       [-0.021,  1.809, -0.691, ...,  0.318, -0.712, -0.284],\n",
       "       [-1.163,  0.409, -0.897, ...,  1.535, -0.887,  1.623],\n",
       "       [-0.649,  0.521, -1.102, ...,  1.279, -0.77 , -0.665]])"
      ]
     },
     "execution_count": 525,
     "metadata": {},
     "output_type": "execute_result"
    }
   ],
   "source": [
    "from sklearn.preprocessing import StandardScaler\n",
    "scaler_train_set = StandardScaler().fit_transform(X_train)\n",
    "scaler_train_set"
   ]
  },
  {
   "cell_type": "code",
   "execution_count": 526,
   "metadata": {},
   "outputs": [
    {
     "data": {
      "text/plain": [
       "array([3.119, 1.951, 1.496, 1.234, 0.959, 0.668, 0.58 , 0.41 , 0.349,\n",
       "       0.18 , 0.06 ])"
      ]
     },
     "execution_count": 526,
     "metadata": {},
     "output_type": "execute_result"
    }
   ],
   "source": [
    "from sklearn.decomposition import PCA\n",
    "pca = PCA()\n",
    "x_pca = pca.fit_transform(scaler_train_set)\n",
    "PC_ALL_Variance = pca.explained_variance_\n",
    "PC_ALL_Variance"
   ]
  },
  {
   "cell_type": "markdown",
   "metadata": {},
   "source": [
    "## b) Plot the training data in the PC1 and PC2 projection and label the data in the picture according to its class"
   ]
  },
  {
   "cell_type": "code",
   "execution_count": 527,
   "metadata": {},
   "outputs": [
    {
     "data": {
      "text/plain": [
       "array([[-0.244, -0.831],\n",
       "       [-0.027,  0.102],\n",
       "       [-1.254,  0.319],\n",
       "       ...,\n",
       "       [-0.927,  0.77 ],\n",
       "       [-3.175, -1.655],\n",
       "       [-1.556,  1.359]])"
      ]
     },
     "execution_count": 527,
     "metadata": {},
     "output_type": "execute_result"
    }
   ],
   "source": [
    "from sklearn.decomposition import PCA\n",
    "pca = PCA(n_components=2)\n",
    "x_pca = pca.fit_transform(scaler_train_set)\n",
    "x_pca"
   ]
  },
  {
   "cell_type": "code",
   "execution_count": 528,
   "metadata": {},
   "outputs": [
    {
     "data": {
      "image/png": "[encoded data removed]",
      "text/plain": [
       "<Figure size 576x432 with 1 Axes>"
      ]
     },
     "metadata": {
      "needs_background": "light"
     },
     "output_type": "display_data"
    }
   ],
   "source": [
    "plt.figure(figsize=(8,6))\n",
    "marker = ['class1','class2']\n",
    "plt.scatter(x_pca[:,0],x_pca[:,1], c=y_train ,cmap='cividis',edgecolor='none',label=marker, alpha= 0.5)\n",
    "plt.xlabel('First principal component')\n",
    "plt.ylabel('Second Principal Component')\n",
    "plt.show()\n"
   ]
  },
  {
   "cell_type": "code",
   "execution_count": 529,
   "metadata": {},
   "outputs": [
    {
     "data": {
      "text/plain": [
       "array([[ 0.49 , -0.24 ,  0.464,  0.13 ,  0.207, -0.065, -0.002,  0.395,\n",
       "        -0.437,  0.253, -0.108],\n",
       "       [-0.091,  0.273, -0.135,  0.278,  0.167,  0.505,  0.566,  0.243,\n",
       "        -0.014, -0.035, -0.397]])"
      ]
     },
     "execution_count": 529,
     "metadata": {},
     "output_type": "execute_result"
    }
   ],
   "source": [
    "pca.components_"
   ]
  },
  {
   "cell_type": "code",
   "execution_count": 530,
   "metadata": {},
   "outputs": [
    {
     "data": {
      "text/plain": [
       "3.1190284477160297"
      ]
     },
     "execution_count": 530,
     "metadata": {},
     "output_type": "execute_result"
    }
   ],
   "source": [
    "PC1_variance = pca.explained_variance_[0]\n",
    "PC1_variance"
   ]
  },
  {
   "cell_type": "code",
   "execution_count": 531,
   "metadata": {},
   "outputs": [
    {
     "data": {
      "text/plain": [
       "1.9514828294507311"
      ]
     },
     "execution_count": 531,
     "metadata": {},
     "output_type": "execute_result"
    }
   ],
   "source": [
    "PC2_variance = pca.explained_variance_[1]\n",
    "PC2_variance"
   ]
  },
  {
   "cell_type": "code",
   "execution_count": 532,
   "metadata": {},
   "outputs": [
    {
     "data": {
      "text/plain": [
       "array([0.283, 0.177])"
      ]
     },
     "execution_count": 532,
     "metadata": {},
     "output_type": "execute_result"
    }
   ],
   "source": [
    "Variance_ratio = pca.explained_variance_ratio_\n",
    "Variance_ratio"
   ]
  },
  {
   "cell_type": "markdown",
   "metadata": {},
   "source": [
    "## c) Report variances captured by each principal component "
   ]
  },
  {
   "cell_type": "code",
   "execution_count": 533,
   "metadata": {},
   "outputs": [
    {
     "data": {
      "text/plain": [
       "array([3.119, 1.951])"
      ]
     },
     "execution_count": 533,
     "metadata": {},
     "output_type": "execute_result"
    }
   ],
   "source": [
    "PC_ALL_Variance = pca.explained_variance_\n",
    "PC_ALL_Variance"
   ]
  },
  {
   "cell_type": "markdown",
   "metadata": {},
   "source": [
    "## Task 3: Do a classification using the logistic regression model "
   ]
  },
  {
   "cell_type": "markdown",
   "metadata": {},
   "source": [
    "### a) In your report, describe the model you have used, including :\n",
    "What is the cost function? You need to give a mathematical expression describing it. Which optimization algorithm has been used in your code?\n",
    "Did you use a regularisation term? If you used one, what is it?"
   ]
  },
  {
   "cell_type": "code",
   "execution_count": 534,
   "metadata": {},
   "outputs": [
    {
     "name": "stdout",
     "output_type": "stream",
     "text": [
      "The intercept = [-0.424]\n",
      "The trained coefficients are: [[-0.038  1.067  0.334 -0.408 -0.306 -0.345  0.852 -0.008  0.376 -0.156\n",
      "  -1.193]]\n"
     ]
    },
    {
     "data": {
      "text/plain": [
       "array([2., 2., 2., 2., 1., 1., 1., 1., 1., 1., 1., 1., 1., 2., 1., 2., 1.,\n",
       "       2., 2., 2., 1., 1., 2., 1., 2., 2., 2., 1., 1., 2., 2., 2., 1., 2.,\n",
       "       2., 1., 1., 1., 2., 2., 1., 2., 1., 1., 1., 1., 1., 1., 2., 2., 1.,\n",
       "       1., 2., 2., 1., 1., 1., 2., 1., 1., 2., 2., 1., 1., 2., 1., 2., 1.,\n",
       "       2., 1., 2., 1., 1., 1., 2., 1., 1., 1., 2., 1., 2., 1., 2., 2., 1.,\n",
       "       2., 2., 1., 2., 1., 1., 1., 2., 2., 1., 2., 2., 1., 2., 1., 2., 1.,\n",
       "       2., 1., 1., 1., 1., 1., 2., 1., 2., 1., 2., 1., 2., 1., 1., 2., 2.,\n",
       "       2., 1., 2., 2., 1., 1., 2., 1., 2., 1., 1., 2., 2., 1., 1., 2., 1.,\n",
       "       2., 1., 1., 1., 2., 1., 2., 2., 1., 1., 1., 1., 1., 2., 1., 1., 2.,\n",
       "       1., 1., 2., 2., 2., 1., 1., 2., 2., 1., 1., 1., 1., 1., 1., 1., 1.,\n",
       "       2., 1., 1., 2., 1., 1., 1., 1., 1., 2., 1., 1., 1., 2., 1., 2., 2.,\n",
       "       1., 1., 2., 1., 1., 1., 1., 1., 1., 2., 2., 1., 1., 2., 1., 2., 1.,\n",
       "       1., 2., 1., 1., 1., 1., 1., 2., 1., 2., 1., 1., 2., 1., 2., 2., 1.,\n",
       "       1., 2., 1., 1., 1., 1., 2., 1., 1., 1., 2., 1., 2., 1., 1., 1., 1.,\n",
       "       2., 1., 2., 1., 1., 2., 2., 2., 2., 1., 2., 1., 2., 1., 2., 2., 1.,\n",
       "       2., 1., 2., 1., 1., 2., 1., 2., 1., 2., 1., 2., 2., 1., 1., 1., 1.,\n",
       "       1., 2., 1., 2., 2., 1., 1., 2., 1., 1., 1., 1., 2., 1., 2., 2., 2.,\n",
       "       1., 1., 2., 2., 2., 2., 1., 2., 1., 2., 2., 1., 2., 2., 2., 1., 1.,\n",
       "       1., 1., 2., 1., 1., 1., 2., 2., 2., 2., 2., 2., 2., 2.])"
      ]
     },
     "execution_count": 534,
     "metadata": {},
     "output_type": "execute_result"
    }
   ],
   "source": [
    "from sklearn.linear_model import SGDClassifier\n",
    "optimize = SGDClassifier(max_iter=100, tol=1e-3, eta0=0.1 ,penalty = \"l2\")\n",
    "optimize.fit(scaled_trnX, y_train)\n",
    "\n",
    "# print the coefficients\n",
    "print('The intercept =',optimize.intercept_)\n",
    "print('The trained coefficients are:',optimize.coef_)\n",
    "\n",
    "# predict for the test set\n",
    "y_pred_SDG = optimize.predict(scaled_tstX)\n",
    "y_pred_SDG"
   ]
  },
  {
   "cell_type": "markdown",
   "metadata": {},
   "source": [
    "## c) Train the model on the training set and report the performance on the test set including accuracy rate and results obtained using the misPatterns function you have defined in b). "
   ]
  },
  {
   "cell_type": "code",
   "execution_count": 535,
   "metadata": {},
   "outputs": [
    {
     "name": "stdout",
     "output_type": "stream",
     "text": [
      "Unique labels in the dataset are: [1. 2.]\n",
      "Number of instances in each class in the trainig set: Counter({1.0: 691, 2.0: 588})\n",
      "Number of instances in each class in the test set: Counter({1.0: 164, 2.0: 156})\n"
     ]
    }
   ],
   "source": [
    "import collections, numpy\n",
    "\n",
    "unique_labels = numpy.unique(label_values)\n",
    "print('Unique labels in the dataset are:', unique_labels)\n",
    "\n",
    "num_in_each_class_in_training = collections.Counter(y_train)\n",
    "print('Number of instances in each class in the trainig set:', num_in_each_class_in_training)\n",
    "num_in_each_class_in_test = collections.Counter(y_test)\n",
    "print('Number of instances in each class in the test set:',num_in_each_class_in_test) "
   ]
  },
  {
   "cell_type": "code",
   "execution_count": 536,
   "metadata": {},
   "outputs": [
    {
     "name": "stdout",
     "output_type": "stream",
     "text": [
      "(1279, 11) (320, 11) (1279,) (320,)\n"
     ]
    }
   ],
   "source": [
    "from sklearn import preprocessing\n",
    "\n",
    "\"\"\"Note it should be fit on the training set only\"\"\"\n",
    "scaler = preprocessing.StandardScaler().fit(X_train)\n",
    "\"\"\"Apply scaling parameters on both the training set and the test set\"\"\"\n",
    "scaled_trnX = scaler.transform(X_train)      \n",
    "scaled_tstX = scaler.transform(X_test) \n",
    "\n",
    "print(scaled_trnX.shape, scaled_tstX.shape, y_train.shape, y_test.shape)"
   ]
  },
  {
   "cell_type": "code",
   "execution_count": 537,
   "metadata": {},
   "outputs": [
    {
     "name": "stdout",
     "output_type": "stream",
     "text": [
      "The intercept = [-0.279]\n"
     ]
    }
   ],
   "source": [
    "from sklearn.linear_model import LogisticRegression\n",
    "\n",
    "logis_reg = LogisticRegression().fit(scaled_trnX,y_train)\n",
    "\n",
    "y_prob = logis_reg.predict_proba(scaled_tstX)\n",
    "y_pred = logis_reg.predict(scaled_tstX)\n",
    "print('The intercept =',logis_reg.intercept_)"
   ]
  },
  {
   "cell_type": "code",
   "execution_count": 538,
   "metadata": {},
   "outputs": [
    {
     "data": {
      "text/plain": [
       "(320,)"
      ]
     },
     "execution_count": 538,
     "metadata": {},
     "output_type": "execute_result"
    }
   ],
   "source": [
    "y_pred.shape"
   ]
  },
  {
   "cell_type": "code",
   "execution_count": 539,
   "metadata": {},
   "outputs": [
    {
     "name": "stdout",
     "output_type": "stream",
     "text": [
      "Accuracy: 0.71875\n"
     ]
    }
   ],
   "source": [
    "from sklearn import metrics\n",
    "\n",
    "# Model Accuracy\n",
    "print(\"Accuracy:\",metrics.accuracy_score(y_test, y_pred))\n"
   ]
  },
  {
   "cell_type": "code",
   "execution_count": 540,
   "metadata": {},
   "outputs": [
    {
     "data": {
      "text/plain": [
       "array([[122,  42],\n",
       "       [ 48, 108]])"
      ]
     },
     "execution_count": 540,
     "metadata": {},
     "output_type": "execute_result"
    }
   ],
   "source": [
    "from sklearn import metrics\n",
    "cnf_matrix = metrics.confusion_matrix(y_test, y_pred)\n",
    "cnf_matrix"
   ]
  },
  {
   "cell_type": "code",
   "execution_count": 541,
   "metadata": {},
   "outputs": [
    {
     "data": {
      "text/plain": [
       "Text(0.5, 257.44, 'Predicted label')"
      ]
     },
     "execution_count": 541,
     "metadata": {},
     "output_type": "execute_result"
    },
    {
     "data": {
      "image/png": "[encoded data removed]",
      "text/plain": [
       "<Figure size 432x288 with 2 Axes>"
      ]
     },
     "metadata": {
      "needs_background": "light"
     },
     "output_type": "display_data"
    }
   ],
   "source": [
    "class_names=[0,1] # name  of classes\n",
    "fig, ax = plt.subplots()\n",
    "tick_marks = np.arange(len(class_names))\n",
    "plt.xticks(tick_marks, class_names)\n",
    "plt.yticks(tick_marks, class_names)\n",
    "# create heatmap\n",
    "sns.heatmap(pd.DataFrame(cnf_matrix), annot=True, cmap=\"YlGnBu\" ,fmt='g')\n",
    "ax.xaxis.set_label_position(\"top\")\n",
    "plt.tight_layout()\n",
    "plt.title('Confusion matrix', y=1.1)\n",
    "plt.ylabel('Actual label')\n",
    "plt.xlabel('Predicted label')"
   ]
  },
  {
   "cell_type": "markdown",
   "metadata": {},
   "source": [
    "## b) Define your own function ([num1, num2]=misPatterns(predictions, labels)) using Python: the inputs of this function are predictions and labels; and the outputs of this function are the number (num1) of misclassified patterns whose label is 1 but prediction is 2, and the number (num2) of misclassified patterns whose label is 2 but prediction is 1."
   ]
  },
  {
   "cell_type": "code",
   "execution_count": 542,
   "metadata": {},
   "outputs": [],
   "source": [
    "\n",
    "def misPatterns(y_pred,y_test):\n",
    "    count=0;num1=0;num2=0;\n",
    "    for i in range(y_test.shape[0]):\n",
    "        if(y_pred[i]!=y_test[i]):\n",
    "            if(y_pred[i]==2):\n",
    "                num1+=1\n",
    "                print('predected  ',y_pred[i],'  Label',y_test[i],'num1')\n",
    "            if(y_pred[i]==1):\n",
    "                num2+=1\n",
    "                print('predected  ',y_pred[i],'  Label',y_test[i],'num2')\n",
    "        else:\n",
    "            print('predected  ',y_pred[i],'  Label',y_test[i],'True')\n",
    "       \n",
    "        count+= 1\n",
    "    return [num1,num2]"
   ]
  },
  {
   "cell_type": "code",
   "execution_count": 543,
   "metadata": {},
   "outputs": [
    {
     "name": "stdout",
     "output_type": "stream",
     "text": [
      "predected   2.0   Label 2.0 True\n",
      "predected   2.0   Label 2.0 True\n",
      "predected   2.0   Label 2.0 True\n",
      "predected   2.0   Label 1.0 num1\n",
      "predected   1.0   Label 1.0 True\n",
      "predected   1.0   Label 1.0 True\n",
      "predected   1.0   Label 2.0 num2\n",
      "predected   1.0   Label 1.0 True\n",
      "predected   1.0   Label 1.0 True\n",
      "predected   1.0   Label 2.0 num2\n",
      "predected   1.0   Label 1.0 True\n",
      "predected   1.0   Label 2.0 num2\n",
      "predected   1.0   Label 2.0 num2\n",
      "predected   2.0   Label 2.0 True\n",
      "predected   2.0   Label 1.0 num1\n",
      "predected   2.0   Label 2.0 True\n",
      "predected   1.0   Label 2.0 num2\n",
      "predected   2.0   Label 2.0 True\n",
      "predected   2.0   Label 2.0 True\n",
      "predected   1.0   Label 1.0 True\n",
      "predected   1.0   Label 1.0 True\n",
      "predected   1.0   Label 1.0 True\n",
      "predected   2.0   Label 1.0 num1\n",
      "predected   1.0   Label 2.0 num2\n",
      "predected   1.0   Label 2.0 num2\n",
      "predected   2.0   Label 2.0 True\n",
      "predected   2.0   Label 2.0 True\n",
      "predected   1.0   Label 2.0 num2\n",
      "predected   1.0   Label 1.0 True\n",
      "predected   2.0   Label 1.0 num1\n",
      "predected   2.0   Label 1.0 num1\n",
      "predected   2.0   Label 2.0 True\n",
      "predected   1.0   Label 1.0 True\n",
      "predected   2.0   Label 1.0 num1\n",
      "predected   2.0   Label 1.0 num1\n",
      "predected   1.0   Label 2.0 num2\n",
      "predected   1.0   Label 2.0 num2\n",
      "predected   1.0   Label 1.0 True\n",
      "predected   2.0   Label 2.0 True\n",
      "predected   2.0   Label 2.0 True\n",
      "predected   1.0   Label 1.0 True\n",
      "predected   2.0   Label 2.0 True\n",
      "predected   1.0   Label 1.0 True\n",
      "predected   1.0   Label 1.0 True\n",
      "predected   1.0   Label 1.0 True\n",
      "predected   1.0   Label 1.0 True\n",
      "predected   1.0   Label 2.0 num2\n",
      "predected   1.0   Label 1.0 True\n",
      "predected   2.0   Label 2.0 True\n",
      "predected   2.0   Label 2.0 True\n",
      "predected   1.0   Label 2.0 num2\n",
      "predected   1.0   Label 1.0 True\n",
      "predected   2.0   Label 2.0 True\n",
      "predected   2.0   Label 2.0 True\n",
      "predected   1.0   Label 1.0 True\n",
      "predected   1.0   Label 2.0 num2\n",
      "predected   1.0   Label 1.0 True\n",
      "predected   1.0   Label 1.0 True\n",
      "predected   1.0   Label 1.0 True\n",
      "predected   1.0   Label 1.0 True\n",
      "predected   2.0   Label 2.0 True\n",
      "predected   2.0   Label 1.0 num1\n",
      "predected   2.0   Label 2.0 True\n",
      "predected   1.0   Label 2.0 num2\n",
      "predected   2.0   Label 2.0 True\n",
      "predected   1.0   Label 1.0 True\n",
      "predected   2.0   Label 2.0 True\n",
      "predected   2.0   Label 1.0 num1\n",
      "predected   2.0   Label 2.0 True\n",
      "predected   1.0   Label 2.0 num2\n",
      "predected   2.0   Label 1.0 num1\n",
      "predected   2.0   Label 2.0 True\n",
      "predected   1.0   Label 1.0 True\n",
      "predected   1.0   Label 1.0 True\n",
      "predected   2.0   Label 2.0 True\n",
      "predected   1.0   Label 2.0 num2\n",
      "predected   2.0   Label 1.0 num1\n",
      "predected   1.0   Label 1.0 True\n",
      "predected   2.0   Label 2.0 True\n",
      "predected   1.0   Label 1.0 True\n",
      "predected   2.0   Label 2.0 True\n",
      "predected   1.0   Label 1.0 True\n",
      "predected   2.0   Label 2.0 True\n",
      "predected   2.0   Label 1.0 num1\n",
      "predected   1.0   Label 1.0 True\n",
      "predected   2.0   Label 2.0 True\n",
      "predected   2.0   Label 2.0 True\n",
      "predected   1.0   Label 1.0 True\n",
      "predected   2.0   Label 2.0 True\n",
      "predected   2.0   Label 2.0 True\n",
      "predected   1.0   Label 1.0 True\n",
      "predected   1.0   Label 1.0 True\n",
      "predected   2.0   Label 2.0 True\n",
      "predected   1.0   Label 1.0 True\n",
      "predected   1.0   Label 1.0 True\n",
      "predected   2.0   Label 1.0 num1\n",
      "predected   2.0   Label 1.0 num1\n",
      "predected   1.0   Label 2.0 num2\n",
      "predected   2.0   Label 2.0 True\n",
      "predected   1.0   Label 1.0 True\n",
      "predected   2.0   Label 2.0 True\n",
      "predected   1.0   Label 1.0 True\n",
      "predected   2.0   Label 2.0 True\n",
      "predected   1.0   Label 1.0 True\n",
      "predected   2.0   Label 2.0 True\n",
      "predected   2.0   Label 1.0 num1\n",
      "predected   1.0   Label 2.0 num2\n",
      "predected   1.0   Label 1.0 True\n",
      "predected   2.0   Label 2.0 True\n",
      "predected   1.0   Label 1.0 True\n",
      "predected   2.0   Label 1.0 num1\n",
      "predected   1.0   Label 2.0 num2\n",
      "predected   2.0   Label 2.0 True\n",
      "predected   1.0   Label 1.0 True\n",
      "predected   2.0   Label 2.0 True\n",
      "predected   1.0   Label 1.0 True\n",
      "predected   1.0   Label 1.0 True\n",
      "predected   2.0   Label 2.0 True\n",
      "predected   2.0   Label 1.0 num1\n",
      "predected   2.0   Label 2.0 True\n",
      "predected   1.0   Label 1.0 True\n",
      "predected   1.0   Label 2.0 num2\n",
      "predected   2.0   Label 2.0 True\n",
      "predected   1.0   Label 1.0 True\n",
      "predected   1.0   Label 1.0 True\n",
      "predected   2.0   Label 2.0 True\n",
      "predected   1.0   Label 1.0 True\n",
      "predected   2.0   Label 2.0 True\n",
      "predected   1.0   Label 2.0 num2\n",
      "predected   2.0   Label 1.0 num1\n",
      "predected   2.0   Label 1.0 num1\n",
      "predected   2.0   Label 2.0 True\n",
      "predected   1.0   Label 1.0 True\n",
      "predected   1.0   Label 1.0 True\n",
      "predected   2.0   Label 2.0 True\n",
      "predected   1.0   Label 1.0 True\n",
      "predected   2.0   Label 2.0 True\n",
      "predected   1.0   Label 1.0 True\n",
      "predected   1.0   Label 1.0 True\n",
      "predected   1.0   Label 2.0 num2\n",
      "predected   2.0   Label 2.0 True\n",
      "predected   1.0   Label 2.0 num2\n",
      "predected   2.0   Label 1.0 num1\n",
      "predected   2.0   Label 2.0 True\n",
      "predected   1.0   Label 2.0 num2\n",
      "predected   1.0   Label 1.0 True\n",
      "predected   1.0   Label 2.0 num2\n",
      "predected   1.0   Label 1.0 True\n",
      "predected   1.0   Label 1.0 True\n",
      "predected   2.0   Label 2.0 True\n",
      "predected   1.0   Label 2.0 num2\n",
      "predected   1.0   Label 1.0 True\n",
      "predected   2.0   Label 2.0 True\n",
      "predected   1.0   Label 1.0 True\n",
      "predected   2.0   Label 2.0 True\n",
      "predected   2.0   Label 2.0 True\n",
      "predected   2.0   Label 2.0 True\n",
      "predected   2.0   Label 1.0 num1\n",
      "predected   1.0   Label 1.0 True\n",
      "predected   2.0   Label 2.0 True\n",
      "predected   2.0   Label 2.0 True\n",
      "predected   2.0   Label 2.0 True\n",
      "predected   1.0   Label 2.0 num2\n",
      "predected   2.0   Label 2.0 True\n",
      "predected   1.0   Label 1.0 True\n",
      "predected   1.0   Label 1.0 True\n",
      "predected   1.0   Label 1.0 True\n",
      "predected   1.0   Label 1.0 True\n",
      "predected   1.0   Label 2.0 num2\n",
      "predected   1.0   Label 2.0 num2\n",
      "predected   2.0   Label 2.0 True\n",
      "predected   1.0   Label 1.0 True\n",
      "predected   1.0   Label 2.0 num2\n",
      "predected   2.0   Label 2.0 True\n",
      "predected   1.0   Label 1.0 True\n",
      "predected   1.0   Label 1.0 True\n",
      "predected   1.0   Label 1.0 True\n",
      "predected   1.0   Label 2.0 num2\n",
      "predected   1.0   Label 1.0 True\n",
      "predected   2.0   Label 2.0 True\n",
      "predected   1.0   Label 1.0 True\n",
      "predected   2.0   Label 1.0 num1\n",
      "predected   1.0   Label 2.0 num2\n",
      "predected   2.0   Label 2.0 True\n",
      "predected   1.0   Label 1.0 True\n",
      "predected   2.0   Label 1.0 num1\n",
      "predected   2.0   Label 1.0 num1\n",
      "predected   1.0   Label 1.0 True\n",
      "predected   1.0   Label 1.0 True\n",
      "predected   2.0   Label 2.0 True\n",
      "predected   1.0   Label 1.0 True\n",
      "predected   1.0   Label 1.0 True\n",
      "predected   1.0   Label 1.0 True\n",
      "predected   1.0   Label 1.0 True\n",
      "predected   1.0   Label 2.0 num2\n",
      "predected   1.0   Label 1.0 True\n",
      "predected   2.0   Label 1.0 num1\n",
      "predected   2.0   Label 1.0 num1\n",
      "predected   1.0   Label 1.0 True\n",
      "predected   1.0   Label 1.0 True\n",
      "predected   2.0   Label 2.0 True\n",
      "predected   1.0   Label 1.0 True\n",
      "predected   2.0   Label 2.0 True\n",
      "predected   1.0   Label 1.0 True\n",
      "predected   1.0   Label 2.0 num2\n",
      "predected   2.0   Label 2.0 True\n",
      "predected   1.0   Label 1.0 True\n",
      "predected   1.0   Label 2.0 num2\n",
      "predected   1.0   Label 2.0 num2\n",
      "predected   1.0   Label 1.0 True\n",
      "predected   1.0   Label 1.0 True\n",
      "predected   2.0   Label 2.0 True\n",
      "predected   1.0   Label 1.0 True\n",
      "predected   2.0   Label 2.0 True\n",
      "predected   2.0   Label 1.0 num1\n",
      "predected   1.0   Label 1.0 True\n",
      "predected   2.0   Label 2.0 True\n",
      "predected   1.0   Label 1.0 True\n",
      "predected   2.0   Label 2.0 True\n",
      "predected   2.0   Label 2.0 True\n",
      "predected   2.0   Label 2.0 True\n",
      "predected   1.0   Label 1.0 True\n",
      "predected   2.0   Label 1.0 num1\n",
      "predected   1.0   Label 1.0 True\n",
      "predected   1.0   Label 1.0 True\n",
      "predected   1.0   Label 1.0 True\n",
      "predected   1.0   Label 1.0 True\n",
      "predected   1.0   Label 1.0 True\n",
      "predected   1.0   Label 1.0 True\n",
      "predected   1.0   Label 2.0 num2\n",
      "predected   2.0   Label 2.0 True\n",
      "predected   2.0   Label 1.0 num1\n",
      "predected   1.0   Label 1.0 True\n",
      "predected   2.0   Label 2.0 True\n",
      "predected   1.0   Label 2.0 num2\n",
      "predected   2.0   Label 2.0 True\n",
      "predected   1.0   Label 1.0 True\n",
      "predected   2.0   Label 1.0 num1\n",
      "predected   2.0   Label 2.0 True\n",
      "predected   1.0   Label 1.0 True\n",
      "predected   2.0   Label 1.0 num1\n",
      "predected   1.0   Label 2.0 num2\n",
      "predected   1.0   Label 1.0 True\n",
      "predected   2.0   Label 2.0 True\n",
      "predected   2.0   Label 2.0 True\n",
      "predected   2.0   Label 2.0 True\n",
      "predected   2.0   Label 2.0 True\n",
      "predected   1.0   Label 1.0 True\n",
      "predected   2.0   Label 2.0 True\n",
      "predected   1.0   Label 2.0 num2\n",
      "predected   2.0   Label 1.0 num1\n",
      "predected   1.0   Label 2.0 num2\n",
      "predected   2.0   Label 2.0 True\n",
      "predected   2.0   Label 2.0 True\n",
      "predected   1.0   Label 1.0 True\n",
      "predected   2.0   Label 1.0 num1\n",
      "predected   1.0   Label 2.0 num2\n",
      "predected   2.0   Label 2.0 True\n",
      "predected   1.0   Label 2.0 num2\n",
      "predected   1.0   Label 1.0 True\n",
      "predected   2.0   Label 2.0 True\n",
      "predected   1.0   Label 1.0 True\n",
      "predected   2.0   Label 2.0 True\n",
      "predected   1.0   Label 2.0 num2\n",
      "predected   2.0   Label 2.0 True\n",
      "predected   1.0   Label 2.0 num2\n",
      "predected   2.0   Label 2.0 True\n",
      "predected   2.0   Label 2.0 True\n",
      "predected   1.0   Label 1.0 True\n",
      "predected   1.0   Label 1.0 True\n",
      "predected   1.0   Label 1.0 True\n",
      "predected   1.0   Label 1.0 True\n",
      "predected   1.0   Label 1.0 True\n",
      "predected   2.0   Label 2.0 True\n",
      "predected   1.0   Label 1.0 True\n",
      "predected   2.0   Label 2.0 True\n",
      "predected   2.0   Label 1.0 num1\n",
      "predected   1.0   Label 1.0 True\n",
      "predected   2.0   Label 1.0 num1\n",
      "predected   1.0   Label 1.0 True\n",
      "predected   1.0   Label 1.0 True\n",
      "predected   1.0   Label 1.0 True\n",
      "predected   1.0   Label 1.0 True\n",
      "predected   1.0   Label 1.0 True\n",
      "predected   2.0   Label 2.0 True\n",
      "predected   1.0   Label 1.0 True\n",
      "predected   2.0   Label 2.0 True\n",
      "predected   2.0   Label 2.0 True\n",
      "predected   2.0   Label 2.0 True\n",
      "predected   1.0   Label 2.0 num2\n",
      "predected   2.0   Label 1.0 num1\n",
      "predected   2.0   Label 2.0 True\n",
      "predected   2.0   Label 2.0 True\n",
      "predected   2.0   Label 2.0 True\n",
      "predected   2.0   Label 2.0 True\n",
      "predected   1.0   Label 1.0 True\n"
     ]
    },
    {
     "name": "stdout",
     "output_type": "stream",
     "text": [
      "predected   2.0   Label 2.0 True\n",
      "predected   1.0   Label 1.0 True\n",
      "predected   2.0   Label 1.0 num1\n",
      "predected   2.0   Label 1.0 num1\n",
      "predected   1.0   Label 1.0 True\n",
      "predected   2.0   Label 2.0 True\n",
      "predected   2.0   Label 2.0 True\n",
      "predected   2.0   Label 1.0 num1\n",
      "predected   1.0   Label 1.0 True\n",
      "predected   2.0   Label 1.0 num1\n",
      "predected   1.0   Label 1.0 True\n",
      "predected   1.0   Label 2.0 num2\n",
      "predected   2.0   Label 2.0 True\n",
      "predected   1.0   Label 2.0 num2\n",
      "predected   1.0   Label 1.0 True\n",
      "predected   1.0   Label 1.0 True\n",
      "predected   2.0   Label 2.0 True\n",
      "predected   2.0   Label 1.0 num1\n",
      "predected   2.0   Label 2.0 True\n",
      "predected   2.0   Label 1.0 num1\n",
      "predected   2.0   Label 2.0 True\n",
      "predected   2.0   Label 2.0 True\n",
      "predected   1.0   Label 1.0 True\n",
      "predected   2.0   Label 2.0 True\n"
     ]
    },
    {
     "data": {
      "text/plain": [
       "[42, 48]"
      ]
     },
     "execution_count": 543,
     "metadata": {},
     "output_type": "execute_result"
    }
   ],
   "source": [
    "misPatterns(y_pred,y_test)"
   ]
  },
  {
   "cell_type": "markdown",
   "metadata": {},
   "source": [
    "## Task 4: Investigate how the size of the training dataset affects the model performance on the test set"
   ]
  },
  {
   "cell_type": "code",
   "execution_count": 544,
   "metadata": {},
   "outputs": [
    {
     "name": "stdout",
     "output_type": "stream",
     "text": [
      "Unique labels in the dataset are: [1. 2.]\n",
      "Number of instances in each class in the trainig set: Counter({1.0: 525, 2.0: 434})\n",
      "Number of instances in each class in the test set: Counter({1.0: 166, 2.0: 154})\n"
     ]
    }
   ],
   "source": [
    "import collections, numpy\n",
    "\n",
    "unique_labels = numpy.unique(label_values)\n",
    "print('Unique labels in the dataset are:', unique_labels)\n",
    "\n",
    "num_in_each_class_in_training = collections.Counter(y_trn)\n",
    "print('Number of instances in each class in the trainig set:', num_in_each_class_in_training)\n",
    "num_in_each_class_in_test = collections.Counter(y_val)\n",
    "print('Number of instances in each class in the test set:',num_in_each_class_in_test) "
   ]
  },
  {
   "cell_type": "code",
   "execution_count": 545,
   "metadata": {},
   "outputs": [
    {
     "name": "stdout",
     "output_type": "stream",
     "text": [
      "(959, 11) (320, 11) (959,) (320,)\n"
     ]
    }
   ],
   "source": [
    "from sklearn import preprocessing\n",
    "\n",
    "\"\"\"Note it should be fit on the training set only\"\"\"\n",
    "scaler = preprocessing.StandardScaler().fit(X_trn)\n",
    "\"\"\"Apply scaling parameters on both the training set and the test set\"\"\"\n",
    "scaled_trn_X = scaler.transform(X_trn)      \n",
    "scaled_val_X = scaler.transform(X_val) \n",
    "\n",
    "print(scaled_trn_X.shape, scaled_val_X.shape, y_trn.shape, y_val.shape)"
   ]
  },
  {
   "cell_type": "code",
   "execution_count": 546,
   "metadata": {},
   "outputs": [
    {
     "name": "stdout",
     "output_type": "stream",
     "text": [
      "The intercept = [-0.299]\n"
     ]
    }
   ],
   "source": [
    "from sklearn.linear_model import LogisticRegression\n",
    "\n",
    "logis_reg = LogisticRegression().fit(scaled_trn_X,y_trn)\n",
    "\n",
    "y_prob = logis_reg.predict_proba(scaled_val_X)\n",
    "y_pred = logis_reg.predict(scaled_val_X)\n",
    "print('The intercept =',logis_reg.intercept_)"
   ]
  },
  {
   "cell_type": "code",
   "execution_count": 547,
   "metadata": {},
   "outputs": [
    {
     "name": "stdout",
     "output_type": "stream",
     "text": [
      "Accuracy: 0.746875\n"
     ]
    }
   ],
   "source": [
    "from sklearn import metrics\n",
    "\n",
    "# Model Accuracy\n",
    "print(\"Accuracy:\",metrics.accuracy_score(y_val, y_pred))\n"
   ]
  },
  {
   "cell_type": "markdown",
   "metadata": {},
   "source": [
    "# learning curve for training data"
   ]
  },
  {
   "cell_type": "code",
   "execution_count": 548,
   "metadata": {},
   "outputs": [],
   "source": [
    "import numpy as np\n",
    "import matplotlib.pyplot as plt\n",
    "from sklearn.ensemble import RandomForestClassifier\n",
    "from sklearn.datasets import load_breast_cancer\n",
    "from sklearn.model_selection import learning_curve"
   ]
  },
  {
   "cell_type": "code",
   "execution_count": 549,
   "metadata": {},
   "outputs": [],
   "source": [
    "X = X_trn\n",
    "y = y_trn"
   ]
  },
  {
   "cell_type": "code",
   "execution_count": 550,
   "metadata": {},
   "outputs": [
    {
     "data": {
      "text/plain": [
       "(959, 11)"
      ]
     },
     "execution_count": 550,
     "metadata": {},
     "output_type": "execute_result"
    }
   ],
   "source": [
    "X.shape"
   ]
  },
  {
   "cell_type": "code",
   "execution_count": 551,
   "metadata": {},
   "outputs": [
    {
     "data": {
      "text/plain": [
       "(959,)"
      ]
     },
     "execution_count": 551,
     "metadata": {},
     "output_type": "execute_result"
    }
   ],
   "source": [
    "y.shape"
   ]
  },
  {
   "cell_type": "code",
   "execution_count": 552,
   "metadata": {},
   "outputs": [
    {
     "name": "stdout",
     "output_type": "stream",
     "text": [
      "[learning_curve] Training set sizes: [ 86  94 101 109 117 125 133 141 149 156 164 172 180 188 196 203 211 219\n",
      " 227 235 243 251 258 266 274 282 290 298 305 313 321 329 337 345 353 360\n",
      " 368 376 384 392 400 407 415 423 431 439 447 455 462 470 478 486 494 502\n",
      " 509 517 525 533 541 549 557 564 572 580 588 596 604 611 619 627 635 643\n",
      " 651 659 666 674 682 690 698 706 713 721 729 737 745 753 761 768 776 784\n",
      " 792 800 808 815 823 831 839 847 855 863]\n"
     ]
    },
    {
     "name": "stderr",
     "output_type": "stream",
     "text": [
      "[Parallel(n_jobs=-1)]: Using backend LokyBackend with 4 concurrent workers.\n",
      "[Parallel(n_jobs=-1)]: Done 1000 out of 1000 | elapsed:   18.0s finished\n"
     ]
    }
   ],
   "source": [
    "train_sizes, train_scores, test_scores = learning_curve(LogisticRegression(), X, y, cv = 10, scoring='accuracy', n_jobs=-1, train_sizes=np.linspace(0.1, 1, 100), verbose=1)"
   ]
  },
  {
   "cell_type": "code",
   "execution_count": 553,
   "metadata": {},
   "outputs": [
    {
     "data": {
      "text/plain": [
       "array([0.723, 0.739, 0.755, 0.773, 0.785, 0.788, 0.785, 0.783, 0.765,\n",
       "       0.78 , 0.779, 0.752, 0.762, 0.753, 0.767, 0.768, 0.773, 0.771,\n",
       "       0.749, 0.77 , 0.769, 0.768, 0.767, 0.762, 0.763, 0.752, 0.759,\n",
       "       0.755, 0.751, 0.753, 0.754, 0.75 , 0.752, 0.754, 0.752, 0.753,\n",
       "       0.757, 0.757, 0.762, 0.765, 0.754, 0.758, 0.758, 0.76 , 0.758,\n",
       "       0.756, 0.754, 0.753, 0.751, 0.753, 0.756, 0.756, 0.76 , 0.755,\n",
       "       0.755, 0.758, 0.761, 0.756, 0.754, 0.755, 0.756, 0.755, 0.753,\n",
       "       0.754, 0.751, 0.751, 0.753, 0.753, 0.754, 0.753, 0.754, 0.755,\n",
       "       0.752, 0.753, 0.754, 0.753, 0.755, 0.756, 0.751, 0.755, 0.757,\n",
       "       0.757, 0.756, 0.758, 0.756, 0.756, 0.753, 0.756, 0.758, 0.757,\n",
       "       0.759, 0.756, 0.756, 0.758, 0.757, 0.754, 0.755, 0.752, 0.752,\n",
       "       0.754])"
      ]
     },
     "execution_count": 553,
     "metadata": {},
     "output_type": "execute_result"
    }
   ],
   "source": [
    "train_mean = np.mean(train_scores, axis = 1)\n",
    "train_mean"
   ]
  },
  {
   "cell_type": "code",
   "execution_count": 554,
   "metadata": {},
   "outputs": [
    {
     "data": {
      "text/plain": [
       "array([0.007, 0.013, 0.006, 0.006, 0.005, 0.01 , 0.01 , 0.009, 0.   ,\n",
       "       0.004, 0.004, 0.004, 0.011, 0.004, 0.007, 0.009, 0.016, 0.009,\n",
       "       0.002, 0.008, 0.008, 0.004, 0.007, 0.004, 0.003, 0.005, 0.005,\n",
       "       0.008, 0.005, 0.003, 0.004, 0.004, 0.003, 0.004, 0.004, 0.005,\n",
       "       0.007, 0.003, 0.006, 0.007, 0.005, 0.009, 0.004, 0.004, 0.005,\n",
       "       0.006, 0.004, 0.003, 0.004, 0.004, 0.004, 0.005, 0.004, 0.008,\n",
       "       0.005, 0.003, 0.002, 0.003, 0.005, 0.006, 0.005, 0.005, 0.005,\n",
       "       0.008, 0.006, 0.005, 0.005, 0.006, 0.007, 0.005, 0.005, 0.004,\n",
       "       0.005, 0.004, 0.003, 0.005, 0.003, 0.007, 0.006, 0.004, 0.004,\n",
       "       0.005, 0.003, 0.004, 0.004, 0.003, 0.004, 0.004, 0.004, 0.003,\n",
       "       0.003, 0.005, 0.004, 0.004, 0.003, 0.003, 0.004, 0.003, 0.004,\n",
       "       0.003])"
      ]
     },
     "execution_count": 554,
     "metadata": {},
     "output_type": "execute_result"
    }
   ],
   "source": [
    "train_std = np.std(train_scores, axis = 1)\n",
    "train_std"
   ]
  },
  {
   "cell_type": "code",
   "execution_count": 555,
   "metadata": {},
   "outputs": [
    {
     "data": {
      "text/plain": [
       "array([0.717, 0.735, 0.736, 0.736, 0.741, 0.732, 0.736, 0.738, 0.734,\n",
       "       0.733, 0.746, 0.741, 0.736, 0.735, 0.739, 0.732, 0.742, 0.733,\n",
       "       0.739, 0.749, 0.746, 0.737, 0.74 , 0.742, 0.739, 0.743, 0.746,\n",
       "       0.737, 0.742, 0.738, 0.744, 0.739, 0.743, 0.736, 0.737, 0.734,\n",
       "       0.738, 0.738, 0.742, 0.749, 0.741, 0.741, 0.747, 0.746, 0.751,\n",
       "       0.747, 0.747, 0.746, 0.748, 0.746, 0.749, 0.746, 0.751, 0.74 ,\n",
       "       0.751, 0.752, 0.748, 0.746, 0.743, 0.748, 0.752, 0.748, 0.748,\n",
       "       0.743, 0.744, 0.747, 0.742, 0.751, 0.744, 0.749, 0.747, 0.75 ,\n",
       "       0.743, 0.748, 0.744, 0.741, 0.746, 0.743, 0.752, 0.748, 0.75 ,\n",
       "       0.748, 0.748, 0.742, 0.746, 0.75 , 0.743, 0.746, 0.748, 0.747,\n",
       "       0.752, 0.753, 0.748, 0.744, 0.749, 0.743, 0.747, 0.747, 0.748,\n",
       "       0.747])"
      ]
     },
     "execution_count": 555,
     "metadata": {},
     "output_type": "execute_result"
    }
   ],
   "source": [
    "test_mean = np.mean(test_scores, axis = 1)\n",
    "test_mean"
   ]
  },
  {
   "cell_type": "code",
   "execution_count": 556,
   "metadata": {},
   "outputs": [
    {
     "data": {
      "text/plain": [
       "array([0.039, 0.022, 0.032, 0.023, 0.028, 0.025, 0.027, 0.023, 0.022,\n",
       "       0.021, 0.027, 0.02 , 0.027, 0.03 , 0.026, 0.028, 0.021, 0.021,\n",
       "       0.021, 0.022, 0.027, 0.026, 0.023, 0.022, 0.022, 0.022, 0.023,\n",
       "       0.023, 0.028, 0.023, 0.023, 0.035, 0.024, 0.03 , 0.023, 0.026,\n",
       "       0.029, 0.019, 0.02 , 0.023, 0.018, 0.024, 0.022, 0.024, 0.028,\n",
       "       0.03 , 0.025, 0.023, 0.023, 0.027, 0.031, 0.026, 0.022, 0.03 ,\n",
       "       0.031, 0.029, 0.022, 0.027, 0.029, 0.026, 0.025, 0.027, 0.027,\n",
       "       0.038, 0.028, 0.033, 0.029, 0.023, 0.024, 0.027, 0.03 , 0.019,\n",
       "       0.032, 0.025, 0.027, 0.02 , 0.025, 0.027, 0.023, 0.028, 0.024,\n",
       "       0.022, 0.025, 0.023, 0.026, 0.025, 0.023, 0.022, 0.025, 0.027,\n",
       "       0.024, 0.032, 0.032, 0.025, 0.028, 0.025, 0.029, 0.031, 0.024,\n",
       "       0.026])"
      ]
     },
     "execution_count": 556,
     "metadata": {},
     "output_type": "execute_result"
    }
   ],
   "source": [
    "test_std = np.std(test_scores, axis = 1)\n",
    "test_std"
   ]
  },
  {
   "cell_type": "code",
   "execution_count": 557,
   "metadata": {},
   "outputs": [
    {
     "data": {
      "text/plain": [
       "<matplotlib.legend.Legend at 0x1260875d0>"
      ]
     },
     "execution_count": 557,
     "metadata": {},
     "output_type": "execute_result"
    },
    {
     "data": {
      "image/png": "[encoded data removed]",
      "text/plain": [
       "<Figure size 432x288 with 1 Axes>"
      ]
     },
     "metadata": {
      "needs_background": "light"
     },
     "output_type": "display_data"
    }
   ],
   "source": [
    "plt.plot(train_sizes, train_mean, label = 'Training Score')\n",
    "plt.plot(train_sizes, test_mean, label = 'Cross-Validation Score')\n",
    "\n",
    "plt.fill_between(train_sizes, train_mean-train_std, train_mean+train_std, color = '#DDDDDD')\n",
    "plt.fill_between(train_sizes, test_mean-test_std, test_mean+test_std, color = '#DDDDDD')\n",
    "\n",
    "\n",
    "\n",
    "plt.title('Learning Curve for training')\n",
    "plt.xlabel('Training Size')\n",
    "plt.ylabel('Accuracy Score')\n",
    "plt.legend(loc = 'best')"
   ]
  },
  {
   "cell_type": "markdown",
   "metadata": {},
   "source": [
    "# Learning curve for validation set"
   ]
  },
  {
   "cell_type": "code",
   "execution_count": 558,
   "metadata": {},
   "outputs": [],
   "source": [
    "X_val_curve = X_val\n",
    "y_val_curve = y_val"
   ]
  },
  {
   "cell_type": "code",
   "execution_count": 559,
   "metadata": {},
   "outputs": [
    {
     "name": "stdout",
     "output_type": "stream",
     "text": [
      "[learning_curve] Training set sizes: [ 28  31  34  36  39  41  44  47  49  52  54  57  60  62  65  68  70  73\n",
      "  75  78  81  83  86  89  91  94  96  99 102 104 107 109 112 115 117 120\n",
      " 123 125 128 130 133 136 138 141 144 146 149 151 154 157 159 162 164 167\n",
      " 170 172 175 178 180 183 185 188 191 193 196 198 201 204 206 209 212 214\n",
      " 217 219 222 225 227 230 233 235 238 240 243 246 248 251 253 256 259 261\n",
      " 264 267 269 272 274 277 280 282 285 288]\n"
     ]
    },
    {
     "name": "stderr",
     "output_type": "stream",
     "text": [
      "[Parallel(n_jobs=-1)]: Using backend LokyBackend with 4 concurrent workers.\n",
      "[Parallel(n_jobs=-1)]: Done 1000 out of 1000 | elapsed:   13.8s finished\n"
     ]
    }
   ],
   "source": [
    "train_sizes, train_scores, test_scores = learning_curve(LogisticRegression(), X_val_curve, y_val_curve, cv = 10, scoring='accuracy', n_jobs=-1, train_sizes=np.linspace(0.1, 1, 100), verbose=1)"
   ]
  },
  {
   "cell_type": "code",
   "execution_count": 560,
   "metadata": {},
   "outputs": [
    {
     "data": {
      "text/plain": [
       "array([0.793, 0.803, 0.818, 0.806, 0.795, 0.8  , 0.807, 0.796, 0.802,\n",
       "       0.769, 0.778, 0.758, 0.748, 0.768, 0.778, 0.775, 0.771, 0.773,\n",
       "       0.771, 0.764, 0.753, 0.737, 0.75 , 0.766, 0.732, 0.756, 0.747,\n",
       "       0.723, 0.737, 0.726, 0.745, 0.717, 0.713, 0.723, 0.738, 0.718,\n",
       "       0.737, 0.736, 0.733, 0.738, 0.735, 0.737, 0.753, 0.733, 0.744,\n",
       "       0.743, 0.746, 0.75 , 0.743, 0.736, 0.746, 0.735, 0.739, 0.735,\n",
       "       0.74 , 0.733, 0.738, 0.738, 0.743, 0.734, 0.731, 0.732, 0.736,\n",
       "       0.741, 0.746, 0.743, 0.741, 0.743, 0.744, 0.746, 0.735, 0.738,\n",
       "       0.741, 0.732, 0.745, 0.737, 0.741, 0.73 , 0.731, 0.731, 0.737,\n",
       "       0.744, 0.745, 0.746, 0.741, 0.757, 0.745, 0.736, 0.742, 0.744,\n",
       "       0.739, 0.736, 0.741, 0.741, 0.736, 0.731, 0.732, 0.73 , 0.737,\n",
       "       0.736])"
      ]
     },
     "execution_count": 560,
     "metadata": {},
     "output_type": "execute_result"
    }
   ],
   "source": [
    "train_mean = np.mean(train_scores, axis = 1)\n",
    "train_mean"
   ]
  },
  {
   "cell_type": "code",
   "execution_count": 561,
   "metadata": {},
   "outputs": [
    {
     "data": {
      "text/plain": [
       "array([0.021, 0.01 , 0.018, 0.012, 0.   , 0.01 , 0.023, 0.027, 0.037,\n",
       "       0.042, 0.038, 0.038, 0.031, 0.027, 0.024, 0.042, 0.034, 0.028,\n",
       "       0.027, 0.049, 0.038, 0.031, 0.033, 0.026, 0.02 , 0.025, 0.024,\n",
       "       0.034, 0.027, 0.022, 0.021, 0.024, 0.027, 0.024, 0.027, 0.019,\n",
       "       0.025, 0.019, 0.018, 0.013, 0.012, 0.012, 0.014, 0.011, 0.01 ,\n",
       "       0.019, 0.014, 0.014, 0.009, 0.012, 0.01 , 0.013, 0.014, 0.012,\n",
       "       0.015, 0.012, 0.014, 0.018, 0.017, 0.014, 0.01 , 0.013, 0.011,\n",
       "       0.01 , 0.014, 0.011, 0.015, 0.01 , 0.011, 0.012, 0.014, 0.016,\n",
       "       0.012, 0.011, 0.014, 0.012, 0.011, 0.012, 0.012, 0.012, 0.02 ,\n",
       "       0.019, 0.011, 0.013, 0.019, 0.011, 0.015, 0.015, 0.011, 0.011,\n",
       "       0.011, 0.012, 0.01 , 0.012, 0.01 , 0.01 , 0.015, 0.012, 0.014,\n",
       "       0.014])"
      ]
     },
     "execution_count": 561,
     "metadata": {},
     "output_type": "execute_result"
    }
   ],
   "source": [
    "train_std = np.std(train_scores, axis = 1)\n",
    "train_std"
   ]
  },
  {
   "cell_type": "code",
   "execution_count": 562,
   "metadata": {},
   "outputs": [
    {
     "data": {
      "text/plain": [
       "array([0.631, 0.634, 0.637, 0.647, 0.628, 0.662, 0.669, 0.672, 0.672,\n",
       "       0.678, 0.678, 0.675, 0.678, 0.694, 0.697, 0.688, 0.697, 0.684,\n",
       "       0.694, 0.7  , 0.691, 0.703, 0.7  , 0.697, 0.697, 0.694, 0.691,\n",
       "       0.684, 0.703, 0.694, 0.694, 0.697, 0.694, 0.7  , 0.719, 0.706,\n",
       "       0.709, 0.722, 0.716, 0.722, 0.703, 0.713, 0.722, 0.709, 0.706,\n",
       "       0.697, 0.713, 0.719, 0.706, 0.719, 0.716, 0.706, 0.703, 0.694,\n",
       "       0.703, 0.706, 0.722, 0.722, 0.709, 0.709, 0.703, 0.713, 0.716,\n",
       "       0.703, 0.722, 0.7  , 0.719, 0.725, 0.716, 0.722, 0.7  , 0.709,\n",
       "       0.713, 0.703, 0.713, 0.706, 0.703, 0.709, 0.706, 0.709, 0.706,\n",
       "       0.706, 0.706, 0.719, 0.716, 0.706, 0.716, 0.713, 0.709, 0.719,\n",
       "       0.709, 0.713, 0.728, 0.709, 0.713, 0.719, 0.725, 0.709, 0.722,\n",
       "       0.728])"
      ]
     },
     "execution_count": 562,
     "metadata": {},
     "output_type": "execute_result"
    }
   ],
   "source": [
    "test_mean = np.mean(test_scores, axis = 1)\n",
    "test_mean"
   ]
  },
  {
   "cell_type": "code",
   "execution_count": 563,
   "metadata": {},
   "outputs": [
    {
     "data": {
      "text/plain": [
       "array([0.056, 0.063, 0.067, 0.084, 0.103, 0.086, 0.076, 0.097, 0.103,\n",
       "       0.096, 0.102, 0.095, 0.093, 0.081, 0.09 , 0.087, 0.094, 0.081,\n",
       "       0.078, 0.079, 0.093, 0.092, 0.078, 0.101, 0.106, 0.101, 0.077,\n",
       "       0.09 , 0.097, 0.081, 0.092, 0.086, 0.092, 0.09 , 0.085, 0.083,\n",
       "       0.084, 0.081, 0.08 , 0.075, 0.081, 0.08 , 0.08 , 0.082, 0.081,\n",
       "       0.069, 0.072, 0.083, 0.072, 0.084, 0.08 , 0.076, 0.095, 0.074,\n",
       "       0.074, 0.084, 0.073, 0.077, 0.077, 0.069, 0.085, 0.076, 0.09 ,\n",
       "       0.092, 0.071, 0.089, 0.087, 0.08 , 0.078, 0.073, 0.09 , 0.086,\n",
       "       0.094, 0.085, 0.088, 0.091, 0.082, 0.079, 0.081, 0.086, 0.079,\n",
       "       0.084, 0.079, 0.071, 0.081, 0.079, 0.086, 0.065, 0.075, 0.07 ,\n",
       "       0.086, 0.076, 0.082, 0.077, 0.076, 0.068, 0.075, 0.078, 0.077,\n",
       "       0.074])"
      ]
     },
     "execution_count": 563,
     "metadata": {},
     "output_type": "execute_result"
    }
   ],
   "source": [
    "test_std = np.std(test_scores, axis = 1)\n",
    "test_std"
   ]
  },
  {
   "cell_type": "code",
   "execution_count": 564,
   "metadata": {},
   "outputs": [
    {
     "data": {
      "text/plain": [
       "<matplotlib.legend.Legend at 0x125a4e7d0>"
      ]
     },
     "execution_count": 564,
     "metadata": {},
     "output_type": "execute_result"
    },
    {
     "data": {
      "image/png": "[encoded data removed]",
      "text/plain": [
       "<Figure size 432x288 with 1 Axes>"
      ]
     },
     "metadata": {
      "needs_background": "light"
     },
     "output_type": "display_data"
    }
   ],
   "source": [
    "plt.plot(train_sizes, train_mean, label = 'Training Score')\n",
    "plt.plot(train_sizes, test_mean, label = 'Cross-Validation Score')\n",
    "\n",
    "plt.fill_between(train_sizes, train_mean-train_std, train_mean+train_std, color = '#DDDDDD')\n",
    "plt.fill_between(train_sizes, test_mean-test_std, test_mean+test_std, color = '#DDDDDD')\n",
    "\n",
    "\n",
    "\n",
    "plt.title('Learning Curve for validation')\n",
    "plt.xlabel('Training Size')\n",
    "plt.ylabel('Accuracy Score')\n",
    "plt.legend(loc = 'best')"
   ]
  },
  {
   "cell_type": "markdown",
   "metadata": {},
   "source": [
    "# 4 c) Report the performance on the test set obtained using the model trained from the best size (3 marks)."
   ]
  },
  {
   "cell_type": "code",
   "execution_count": 565,
   "metadata": {},
   "outputs": [],
   "source": [
    "X_train, X_test, y_train, y_test = train_test_split( target_values, label_values, test_size=0.25,\n",
    "                                                    random_state=101,shuffle='True')"
   ]
  },
  {
   "cell_type": "code",
   "execution_count": 566,
   "metadata": {},
   "outputs": [],
   "source": [
    "X_train_best, X_test_best, y_train_best, y_test_best = train_test_split( X_train, y_train, test_size=0.33, random_state=101,shuffle='True')"
   ]
  },
  {
   "cell_type": "code",
   "execution_count": 567,
   "metadata": {},
   "outputs": [
    {
     "data": {
      "text/plain": [
       "(803, 11)"
      ]
     },
     "execution_count": 567,
     "metadata": {},
     "output_type": "execute_result"
    }
   ],
   "source": [
    "X_train_best.shape"
   ]
  },
  {
   "cell_type": "code",
   "execution_count": 568,
   "metadata": {},
   "outputs": [
    {
     "data": {
      "text/plain": [
       "(396,)"
      ]
     },
     "execution_count": 568,
     "metadata": {},
     "output_type": "execute_result"
    }
   ],
   "source": [
    "y_test_best.shape"
   ]
  },
  {
   "cell_type": "code",
   "execution_count": 569,
   "metadata": {},
   "outputs": [
    {
     "data": {
      "text/plain": [
       "(1199, 11)"
      ]
     },
     "execution_count": 569,
     "metadata": {},
     "output_type": "execute_result"
    }
   ],
   "source": [
    "X_train.shape"
   ]
  },
  {
   "cell_type": "code",
   "execution_count": 570,
   "metadata": {},
   "outputs": [
    {
     "data": {
      "text/plain": [
       "(1199,)"
      ]
     },
     "execution_count": 570,
     "metadata": {},
     "output_type": "execute_result"
    }
   ],
   "source": [
    "y_train.shape"
   ]
  },
  {
   "cell_type": "code",
   "execution_count": 571,
   "metadata": {},
   "outputs": [
    {
     "name": "stdout",
     "output_type": "stream",
     "text": [
      "Unique labels in the dataset are: [1. 2.]\n",
      "Number of instances in each class in the trainig set: Counter({1.0: 440, 2.0: 363})\n",
      "Number of instances in each class in the test set: Counter({1.0: 210, 2.0: 186})\n"
     ]
    }
   ],
   "source": [
    "import collections, numpy\n",
    "\n",
    "unique_labels = numpy.unique(label_values)\n",
    "print('Unique labels in the dataset are:', unique_labels)\n",
    "\n",
    "num_in_each_class_in_training = collections.Counter(y_train_best)\n",
    "print('Number of instances in each class in the trainig set:', num_in_each_class_in_training)\n",
    "num_in_each_class_in_test = collections.Counter(y_test_best)\n",
    "print('Number of instances in each class in the test set:',num_in_each_class_in_test) "
   ]
  },
  {
   "cell_type": "code",
   "execution_count": 572,
   "metadata": {},
   "outputs": [
    {
     "name": "stdout",
     "output_type": "stream",
     "text": [
      "(803, 11) (396, 11) (803,) (396,)\n"
     ]
    }
   ],
   "source": [
    "from sklearn import preprocessing\n",
    "\n",
    "\"\"\"Note it should be fit on the training set only\"\"\"\n",
    "scaler = preprocessing.StandardScaler().fit(X_train_best)\n",
    "\"\"\"Apply scaling parameters on both the training set and the test set\"\"\"\n",
    "scaled_trn_X_best = scaler.transform(X_train_best)      \n",
    "scaled_val_X_best = scaler.transform(X_test_best) \n",
    "\n",
    "print(scaled_trn_X_best.shape, scaled_val_X_best.shape, y_train_best.shape, y_test_best.shape)"
   ]
  },
  {
   "cell_type": "code",
   "execution_count": 573,
   "metadata": {},
   "outputs": [
    {
     "name": "stdout",
     "output_type": "stream",
     "text": [
      "The intercept = [-0.36]\n"
     ]
    }
   ],
   "source": [
    "from sklearn.linear_model import LogisticRegression\n",
    "\n",
    "logis_reg = LogisticRegression().fit(scaled_trn_X_best,y_train_best)\n",
    "\n",
    "y_prob = logis_reg.predict_proba(scaled_val_X_best)\n",
    "y_pred = logis_reg.predict(scaled_val_X_best)\n",
    "print('The intercept =',logis_reg.intercept_)\n",
    "\n"
   ]
  },
  {
   "cell_type": "code",
   "execution_count": 574,
   "metadata": {},
   "outputs": [
    {
     "name": "stdout",
     "output_type": "stream",
     "text": [
      "Accuracy: 0.7146464646464646\n"
     ]
    }
   ],
   "source": [
    "from sklearn import metrics\n",
    "\n",
    "# Model Accuracy\n",
    "print(\"Accuracy:\",metrics.accuracy_score(y_test_best, y_pred))\n"
   ]
  },
  {
   "cell_type": "markdown",
   "metadata": {},
   "source": [
    "## Task 5: Investigate how the number of features extracted from PCA affects the model performance on the test set"
   ]
  },
  {
   "cell_type": "code",
   "execution_count": null,
   "metadata": {},
   "outputs": [],
   "source": [
    "trainAccuracy={}\n",
    "testAccuracy={}\n",
    "for i in range(1,13):\n",
    "    pca = PCA(n_components=i)\n",
    "    X_train = pca.fit_transform(X2_train)\n",
    "    X_test = pca.transform(X2_test)\n",
    "    lr=LogisticRegression()\n",
    "    lr.fit(X_train,y2_train)\n",
    "    train_pred=lr.predict(X_train)\n",
    "    acc_train=metrics.accuracy_score(y2_train,train_pred)\n",
    "    test_pred=lr.predict(X_test)\n",
    "    acc_test=metrics.accuracy_score(y2_test,test_pred)\n",
    "    trainAccuracy[i]=acc_train\n",
    "    testAccuracy[i]=acc_test\n",
    "    print(\"PCA :\",i,\"  Train Accuracy:\",acc_train,\"  Test Accuracy:\",acc_test)"
   ]
  },
  {
   "cell_type": "raw",
   "metadata": {},
   "source": [
    "PCA : 1   Train Accuracy: 0.6304985337243402   Test Accuracy: 0.5703125\n",
    "PCA : 2   Train Accuracy: 0.6324535679374389   Test Accuracy: 0.5859375\n",
    "PCA : 3   Train Accuracy: 0.6334310850439883   Test Accuracy: 0.58984375\n",
    "PCA : 4   Train Accuracy: 0.6402737047898338   Test Accuracy: 0.59375\n",
    "PCA : 5   Train Accuracy: 0.8074291300097751   Test Accuracy: 0.796875\n",
    "PCA : 6   Train Accuracy: 1.0   Test Accuracy: 1.0\n",
    "PCA : 7   Train Accuracy: 1.0   Test Accuracy: 1.0\n",
    "PCA : 8   Train Accuracy: 1.0   Test Accuracy: 1.0\n",
    "PCA : 9   Train Accuracy: 1.0   Test Accuracy: 1.0\n",
    "PCA : 10   Train Accuracy: 1.0   Test Accuracy: 1.0\n",
    "PCA : 11   Train Accuracy: 1.0   Test Accuracy: 1.0\n",
    "PCA : 12   Train Accuracy: 1.0   Test Accuracy: 1.0"
   ]
  },
  {
   "cell_type": "code",
   "execution_count": 599,
   "metadata": {},
   "outputs": [
    {
     "data": {
      "text/plain": [
       "Text(0, 0.5, 'Accuracy')"
      ]
     },
     "execution_count": 599,
     "metadata": {},
     "output_type": "execute_result"
    },
    {
     "data": {
      "image/png": "[encoded data removed]",
      "text/plain": [
       "<Figure size 432x288 with 1 Axes>"
      ]
     },
     "metadata": {
      "needs_background": "light"
     },
     "output_type": "display_data"
    }
   ],
   "source": [
    "trainAccuracy_keys=[1,2,3,4,5,6,7,8,9,10,11,12]\n",
    "testAccuracy_keys=[1,2,3,4,5,6,7,8,9,10,11,12]\n",
    "trainAccuracy = [0.6304985337243402 ,0.6324535679374389,0.6334310850439883 ,0.6402737047898338 ,0.8074291300097751 ,1,1,1,1,1,1,1 ]\n",
    "testAccracy = [0.5703125,0.5859375,0.58984375,0.59375,0.796875,1.0,1.0,1.0,1.0,1.0,1.0,1.0]\n",
    "plt.plot(trainAccuracy_keys,trainAccuracy,label=\"Train Accuracy\")\n",
    "plt.plot(testAccuracy_keys,testAccracy,label=\"Test Accuracy\")\n",
    "plt.title(\"No.Of Principal Components VS Accuracy\")\n",
    "plt.xlabel(\"Principal Components\")\n",
    "plt.ylabel(\"Accuracy\")"
   ]
  },
  {
   "cell_type": "code",
   "execution_count": 589,
   "metadata": {},
   "outputs": [
    {
     "data": {
      "text/plain": [
       "array([[-0.244, -0.831, -0.434, -0.571, -0.514,  0.101],\n",
       "       [-0.027,  0.102, -1.264, -0.301, -0.529,  0.275],\n",
       "       [-1.254,  0.319, -2.135,  0.014, -0.007,  1.014],\n",
       "       ...,\n",
       "       [-0.927,  0.77 , -1.442, -0.06 ,  0.302,  0.693],\n",
       "       [-3.175, -1.655,  0.6  , -0.181,  0.208,  0.522],\n",
       "       [-1.556,  1.359, -0.572, -0.313, -0.124, -0.622]])"
      ]
     },
     "execution_count": 589,
     "metadata": {},
     "output_type": "execute_result"
    }
   ],
   "source": [
    "from sklearn.decomposition import PCA\n",
    "pca = PCA(n_components=6)\n",
    "x_pca = pca.fit_transform(scaler_train_set)\n",
    "x_pca"
   ]
  },
  {
   "cell_type": "markdown",
   "metadata": {},
   "source": [
    "# Please Run ALL together from start to run correctly"
   ]
  },
  {
   "cell_type": "code",
   "execution_count": null,
   "metadata": {},
   "outputs": [],
   "source": []
  }
 ],
 "metadata": {
  "kernelspec": {
   "display_name": "Python 3",
   "language": "python",
   "name": "python3"
  },
  "language_info": {
   "codemirror_mode": {
    "name": "ipython",
    "version": 3
   },
   "file_extension": ".py",
   "mimetype": "text/x-python",
   "name": "python",
   "nbconvert_exporter": "python",
   "pygments_lexer": "ipython3",
   "version": "3.7.4"
  }
 },
 "nbformat": 4,
 "nbformat_minor": 2
}
